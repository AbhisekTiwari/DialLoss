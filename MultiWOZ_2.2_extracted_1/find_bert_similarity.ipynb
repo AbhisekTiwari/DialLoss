{
 "cells": [
  {
   "cell_type": "code",
   "execution_count": 2,
   "metadata": {},
   "outputs": [],
   "source": [
    "from sentence_transformers import SentenceTransformer\n",
    "from sklearn.metrics.pairwise import cosine_similarity\n",
    "model = SentenceTransformer('bert-base-nli-mean-tokens')"
   ]
  },
  {
   "cell_type": "code",
   "execution_count": 9,
   "metadata": {},
   "outputs": [
    {
     "name": "stdout",
     "output_type": "stream",
     "text": [
      "the addenbrookes hospital is located at hills rd , cambridge . can i help you find the phone number for a certain department ?\n",
      "\n",
      "i can certainly provide that to you . their main contact number is 01223245151. can i assist you with anything else ?\n",
      "\n",
      "okay , have a great day !\n",
      "\n",
      "unfortunately , we do not have any indonesian restaurants . would you like thai food ?\n",
      "\n",
      "there is an italian restaurant , la margherita and a vietnamese restaurant called thanh binh . would one of those work ?\n",
      "\n",
      "their address is 17 magdalene street city centre .\n",
      "\n",
      "their postcode is cb30af . would you like to book a table ?\n",
      "\n",
      "i 'd be happy to help with your request , to help narrow the results down , what area are you looking to stay in ?\n",
      "\n",
      "sorry , there are no results . maybe a different star rating or area would work ?\n",
      "\n",
      "i have one result for you in the cheap pricerange . it is the cambridge belfry . anything else today ?\n",
      "\n"
     ]
    }
   ],
   "source": [
    "def cosine(embedding1,embedding2):\n",
    "    return cosine_similarity([embedding1],[embedding2])[0][0]\n",
    "\n",
    "texts=[]\n",
    "with open('train_trg.txt','r') as reader:\n",
    "    for line in reader:\n",
    "        texts.append(line)\n",
    "\n",
    "result=open('result.txt','w')\n",
    "\n",
    "for text in texts[:10]:\n",
    "    embedding1=model.encode(text)\n",
    "    current_text_results=[]\n",
    "    result.write(text+'\\n\\n')\n",
    "    print(text)\n",
    "    for text1 in texts[:1000]:\n",
    "        embedding2=model.encode(text1)\n",
    "        bert_score=cosine(embedding1,embedding2)\n",
    "        current_text_results.append([bert_score,text1])\n",
    "\n",
    "    current_text_results=sorted(current_text_results, key=lambda x: x[0], reverse=True)[:10]\n",
    "    \n",
    "    for value in current_text_results:\n",
    "        result.write(f'{value[0]}, {value[1]}\\n')\n",
    "    "
   ]
  },
  {
   "cell_type": "code",
   "execution_count": 8,
   "metadata": {},
   "outputs": [],
   "source": [
    "def cosine(embedding1,embedding2):\n",
    "    return cosine_similarity([embedding1],[embedding2])[0][0]\n",
    "\n",
    "texts=[]\n",
    "with open('train_trg.txt','r') as reader:\n",
    "    for line in reader:\n",
    "        texts.append(line)\n",
    "\n",
    "result=open('result.txt','w')\n",
    "\n",
    "for text in texts[:200]:\n",
    "    embedding1=model.encode(text)\n",
    "    current_text_results=[]\n",
    "    result.write(text+'\\n\\n')\n",
    "\n",
    "    for text1 in texts:\n",
    "        embedding2=model.encode(text1)\n",
    "        bert_score=cosine(embedding1,embedding2)\n",
    "        current_text_results.append([bert_score,text1])\n",
    "\n",
    "    current_text_results=sorted(current_text_results, key=lambda x: x[0], reverse=True)[:10]\n",
    "    \n",
    "    for value in current_text_results:\n",
    "        result.writ(f'{value[0]}, {value[1]}\\n')\n",
    "    "
   ]
  },
  {
   "cell_type": "code",
   "execution_count": 5,
   "metadata": {},
   "outputs": [],
   "source": [
    "# Example text and floating point values\n",
    "texts = [\"The quick brown fox\", \"jumps over the lazy dog\", \"Hello world\", \"Python is great\"]\n",
    "values = [0.2, 0.8, 0.5, 0.1]\n",
    "\n",
    "# Combine the two lists into a list of tuples\n",
    "pairs = list(zip(texts, values))\n"
   ]
  }
 ],
 "metadata": {
  "kernelspec": {
   "display_name": "dd1",
   "language": "python",
   "name": "python3"
  },
  "language_info": {
   "codemirror_mode": {
    "name": "ipython",
    "version": 3
   },
   "file_extension": ".py",
   "mimetype": "text/x-python",
   "name": "python",
   "nbconvert_exporter": "python",
   "pygments_lexer": "ipython3",
   "version": "3.7.16"
  },
  "orig_nbformat": 4
 },
 "nbformat": 4,
 "nbformat_minor": 2
}
