{
 "cells": [
  {
   "cell_type": "code",
   "execution_count": 45,
   "metadata": {},
   "outputs": [
    {
     "name": "stdout",
     "output_type": "stream",
     "text": [
      "['context', 'gold', 'ce_loss.csv', 'weighted_semantic.csv', 'weighted_semantic_context.csv', 'semantic_reinforcement.csv', 'semantic_context_reinforcement.csv']\n"
     ]
    }
   ],
   "source": [
    "import csv\n",
    "import os\n",
    "\n",
    "# Get a list of all CSV files in a directory\n",
    "directory = '/mnt/Data/abhisek_1921cs16/R/CRW/1.NLG_LE/DLE/Sinan/Persona_final_outputs'\n",
    "csv_files = [f for f in os.listdir(directory) if f.endswith('.csv') and f!=\"Persona_combine.csv\"]\n",
    "\n",
    "new_order=[3,1,0,2,4]\n",
    "csv_files=[csv_files[order] for order in new_order]\n",
    "\n",
    "data = []\n",
    "data.append(['context','gold'])\n",
    "with open(os.path.join(directory, csv_files[0]), 'r') as csvfile:\n",
    "        reader = csv.reader(csvfile)\n",
    "        for i,row in enumerate(reader):\n",
    "            if i!=0:\n",
    "                data.append([row[0],row[1]])\n",
    "data[0].extend(csv_files)\n",
    "print(data[0])\n",
    "for file in csv_files:\n",
    "      with open(file,'r') as csvfile:\n",
    "            reader=csv.reader(csvfile)\n",
    "            for i,row in enumerate(reader):\n",
    "                  if i!=0:\n",
    "                        data[i].append(row[2])\n",
    "\n",
    "# Open CSV file for writing\n",
    "with open('Persona_combine.csv', 'w', newline='') as csvfile:\n",
    "\n",
    "    # Create CSV writer object\n",
    "    csvwriter = csv.writer(csvfile)\n",
    "\n",
    "    # Write data to CSV file\n",
    "    for row in data:\n",
    "        csvwriter.writerow(row)\n",
    "\n",
    "headings=data[0]\n",
    "with open('Persona_combine.txt','w') as file:\n",
    "     for row in data[1:]:\n",
    "        for i,element in enumerate(row):\n",
    "            file.write(f'{headings[i]}\\n')\n",
    "            file.write(f'{element}\\n')\n",
    "            if i==0:\n",
    "                file.write('\\n')\n",
    "        file.write('===========\\n\\n')"
   ]
  }
 ],
 "metadata": {
  "kernelspec": {
   "display_name": "dd1",
   "language": "python",
   "name": "python3"
  },
  "language_info": {
   "codemirror_mode": {
    "name": "ipython",
    "version": 3
   },
   "file_extension": ".py",
   "mimetype": "text/x-python",
   "name": "python",
   "nbconvert_exporter": "python",
   "pygments_lexer": "ipython3",
   "version": "3.7.16"
  },
  "orig_nbformat": 4
 },
 "nbformat": 4,
 "nbformat_minor": 2
}
